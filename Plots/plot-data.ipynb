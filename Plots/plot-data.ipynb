{
 "cells": [
  {
   "cell_type": "markdown",
   "metadata": {},
   "source": [
    "# Visualization of the Heat Diffusion"
   ]
  },
  {
   "cell_type": "markdown",
   "metadata": {},
   "source": [
    "This is the trisurf plot of the data we obtained. Plotting done in Jupyter notebook with plotly.\n",
    "The Heat diffusion equation is \n",
    "$$ \\dfrac{\\partial \\psi }{\\partial t} = h \\nabla^2 \\psi $$\n",
    "\n",
    "This Version of our program solves 2D diffusion equation given some initial conditions . The Computation runs on the $ \\texttt{GPU} $ and uses $ \\texttt{CUDA} \\ C++ $. "
   ]
  },
  {
   "cell_type": "code",
   "execution_count": null,
   "metadata": {},
   "outputs": [],
   "source": [
    "import plotly as py\n",
    "import plotly.figure_factory as FF\n",
    "import plotly.graph_objs as go\n",
    "from scipy.interpolate import griddata\n",
    "\n",
    "import numpy as np\n",
    "from scipy.spatial import Delaunay\n",
    "py.offline.init_notebook_mode()\n",
    "data = np.loadtxt('2D-data.txt')\n",
    "x = data[:,0]\n",
    "y = data[:,1]\n",
    "z = data[:,2]\n",
    "xi = np.unique(x)\n",
    "yi = np.unique(y)\n",
    "\n",
    "xv,yv = np.meshgrid(xi,yi)\n",
    "xv = xv.flatten()\n",
    "yv = yv.flatten()\n",
    "\n",
    "Z = griddata((x, y) , z , (xv, yv), method='cubic')\n",
    "\n",
    "points2D = np.vstack([xv,yv]).T\n",
    "tri = Delaunay(points2D)\n",
    "simplices = tri.simplices\n",
    "\n",
    "fig1 = FF.create_trisurf(x=xv, y=yv, z=z,\n",
    "                         simplices=simplices,\n",
    "                         title=\"Diffusion after 10000 time steps\",aspectratio=dict(x=1, y=1, z=.5))\n",
    "py.offline.iplot(fig1)"
   ]
  },
  {
   "cell_type": "code",
   "execution_count": null,
   "metadata": {},
   "outputs": [],
   "source": [
    "import plotly as py\n",
    "import plotly.graph_objs as go\n",
    "import pandas as pd\n",
    "py.offline.init_notebook_mode()\n",
    "\n",
    "df = pd.read_csv('2D-data.csv')\n",
    "\n",
    "data = [go.Surface(z=df.values.tolist(), colorscale='Viridis')]\n",
    "\n",
    "layout = go.Layout(\n",
    "    width=800,\n",
    "    height=700,\n",
    "    autosize=False,\n",
    "    title='Heat Diffusion 10000th Time Evolved Step',\n",
    "    scene=dict(\n",
    "        xaxis=dict(\n",
    "            gridcolor='rgb(255, 255, 255)',\n",
    "            zerolinecolor='rgb(255, 255, 255)',\n",
    "            showbackground=True,\n",
    "            backgroundcolor='rgb(230, 230,230)'\n",
    "        ),\n",
    "        yaxis=dict(\n",
    "            gridcolor='rgb(255, 255, 255)',\n",
    "            zerolinecolor='rgb(255, 255, 255)',\n",
    "            showbackground=True,\n",
    "            backgroundcolor='rgb(230, 230,230)'\n",
    "        ),\n",
    "        zaxis=dict(\n",
    "            gridcolor='rgb(255, 255, 255)',\n",
    "            zerolinecolor='rgb(255, 255, 255)',\n",
    "            showbackground=True,\n",
    "            backgroundcolor='rgb(230, 230,230)'\n",
    "        ),\n",
    "        aspectratio = dict( x=1, y=1, z=0.7 ),\n",
    "        aspectmode = 'manual'\n",
    "    )\n",
    ")\n",
    "\n",
    "fig = dict(data=data, layout=layout)\n",
    "\n",
    "# IPython notebook\n",
    "# py.iplot(fig, filename='pandas-3d-surface', height=700, validate=False)\n",
    "\n",
    "py.offline.iplot(fig, filename='pandas-3d-surface')"
   ]
  },
  {
   "cell_type": "code",
   "execution_count": null,
   "metadata": {},
   "outputs": [],
   "source": []
  }
 ],
 "metadata": {
  "kernelspec": {
   "display_name": "Python 2",
   "language": "python",
   "name": "python2"
  },
  "language_info": {
   "codemirror_mode": {
    "name": "ipython",
    "version": 2
   },
   "file_extension": ".py",
   "mimetype": "text/x-python",
   "name": "python",
   "nbconvert_exporter": "python",
   "pygments_lexer": "ipython2",
   "version": "2.7.12"
  }
 },
 "nbformat": 4,
 "nbformat_minor": 2
}
